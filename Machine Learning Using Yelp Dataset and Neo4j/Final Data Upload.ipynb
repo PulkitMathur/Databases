{
 "cells": [
  {
   "cell_type": "markdown",
   "metadata": {},
   "source": [
    "# Loading Data into Neo4J"
   ]
  },
  {
   "cell_type": "markdown",
   "metadata": {},
   "source": [
    "Tutorial Reference : https://www.youtube.com/watch?v=oXziS-PPIUA"
   ]
  },
  {
   "cell_type": "markdown",
   "metadata": {},
   "source": [
    "### Angad Beer Singh Dhillon, Pulkit Mathur, Prashanth Modak"
   ]
  },
  {
   "cell_type": "code",
   "execution_count": null,
   "metadata": {},
   "outputs": [],
   "source": [
    "import csv\n",
    "import json\n",
    "from neo4j.v1 import GraphDatabase,CypherError,basic_auth\n",
    "import json\n",
    "import asyncio\n",
    "import sys"
   ]
  },
  {
   "cell_type": "code",
   "execution_count": null,
   "metadata": {},
   "outputs": [],
   "source": [
    "driver = GraphDatabase.driver(\"bolt://localhost:7687\", auth=basic_auth(\"neo4j\", \"sqlproject\"))"
   ]
  },
  {
   "cell_type": "markdown",
   "metadata": {},
   "source": [
    "### Warning : A call to this method will drop all data and relations"
   ]
  },
  {
   "cell_type": "code",
   "execution_count": null,
   "metadata": {},
   "outputs": [],
   "source": [
    "def dropData(client):\n",
    "    with client.session() as session:\n",
    "        session.run(\"MATCH (n) DETACH DELETE n\")\n",
    "    print(\"All Data Successfully Deleted\")"
   ]
  },
  {
   "cell_type": "code",
   "execution_count": null,
   "metadata": {},
   "outputs": [],
   "source": [
    "dropData(driver)"
   ]
  },
  {
   "cell_type": "markdown",
   "metadata": {},
   "source": [
    "### Defining schema constraints"
   ]
  },
  {
   "cell_type": "code",
   "execution_count": null,
   "metadata": {},
   "outputs": [],
   "source": [
    "CATEGORY_CONSTRAINT = '''\n",
    "CREATE CONSTRAINT ON (c:Category) ASSERT c.name IS UNIQUE;\n",
    "'''\n",
    "\n",
    "USER_CONSTRAINT = '''\n",
    "CREATE CONSTRAINT ON (u:User) ASSERT u.user_id IS UNIQUE;\n",
    "'''\n",
    "\n",
    "BUSINESS_CONSTRAINT = '''\n",
    "CREATE CONSTRAINT ON (b:Business) ASSERT b.business_id IS UNIQUE;\n",
    "'''\n",
    "\n",
    "REVIEW_IMPORT_1 = '''\n",
    "WITH {items} AS reviews\n",
    "UNWIND reviews AS review\n",
    "MERGE (b:Business {business_id: review.business_id})\n",
    "'''\n",
    "\n",
    "REVIEW_IMPORT_2 = '''\n",
    "WITH {items} AS reviews\n",
    "UNWIND reviews AS review\n",
    "MERGE (u:User {user_id: review.user_id})\n",
    "'''\n",
    "\n",
    "REVIEW_IMPORT_3 = '''\n",
    "WITH {items} AS reviews\n",
    "UNWIND reviews AS review\n",
    "MATCH (u:User {user_id: review.user_id})\n",
    "MATCH (b:Business {business_id: review.business_id})\n",
    "CREATE (r:Review {review_id: review.review_id})\n",
    "SET r.text   = review.text,\n",
    "    r.type   = review.type,\n",
    "    r.date   = review.date,\n",
    "    r.cool   = review.cool,\n",
    "    r.funny  = review.funny,\n",
    "    r.stars  = review.stars,\n",
    "    r.useful = review.useful\n",
    "CREATE (u)-[:WROTE]->(r)\n",
    "CREATE (r)-[:REVIEWS]->(b)\n",
    "'''\n",
    "\n",
    "BUSINESS_IMPORT = '''\n",
    "WITH {items} AS businesses\n",
    "UNWIND businesses AS business\n",
    "CREATE (b:Business {business_id: business.business_id})\n",
    "SET b.address = business.address,\n",
    "              b.lat     = business.latitude,\n",
    "              b.lon     = business.longitude,\n",
    "              b.name    = business.name,\n",
    "              b.city    = business.city,\n",
    "              b.postal_code = business.postal_code,\n",
    "              b.state = business.state,\n",
    "              b.review_count = business.review_count,\n",
    "              b.stars = business.stars,\n",
    "              b.is_open = CASE WHEN business.open = 1 THEN True ELSE False END,\n",
    "              b.neighborhood = business.neighborhood\n",
    "WITH *\n",
    "UNWIND business.categories AS cat\n",
    "MERGE (c:Category {name: cat})\n",
    "MERGE (b)-[:IN_CATEGORY]->(c)\n",
    "'''\n",
    "\n",
    "USER_IMPORT = '''\n",
    "WITH {items} AS users\n",
    "UNWIND users AS user\n",
    "CREATE (u:User {user_id: user.user_id})\n",
    "SET u.name               = user.name,\n",
    "    u.type               = user.type,\n",
    "    u.useful             = user.useful,\n",
    "    u.yelping_since      = user.yelping_since, \n",
    "    u.funny              = user.funny,\n",
    "    u.review_count       = user.review_count,\n",
    "    u.average_stars      = user.average_stars,\n",
    "    u.fans               = user.fans,\n",
    "    u.compliment_cool    = user.compliment_cool,\n",
    "    u.compliment_cute    = user.compliment_cute,\n",
    "    u.compliment_funny   = user.compliment_funny,\n",
    "    u.compliment_hot     = user.compliment_hot,\n",
    "    u.compliment_list    = user.compliment_list,\n",
    "    u.compliment_more    = user.compliment_more,\n",
    "    u.compliment_note    = user.compliment_note,\n",
    "    u.compliment_photos  = user.compliment_photos,\n",
    "    u.compliment_plain   = user.compliment_plain,\n",
    "    u.compliment_profile = user.compliment_profile,\n",
    "    u.compliment_writer  = user.compliment_writer,\n",
    "    u.cool               = user.cool\n",
    "'''\n",
    "\n",
    "USER_FRIEND_IMPORT = '''\n",
    "WITH {items} AS users\n",
    "UNWIND users AS user\n",
    "MATCH (u:User {user_id: user.user_id})\n",
    "UNWIND user.friends AS friend\n",
    "    MATCH (f:User {user_id: friend})\n",
    "    CREATE (u)-[:FRIENDS]->(f)\n",
    "'''\n",
    "\n",
    "TIP_IMPORT = '''\n",
    "WITH {items} AS tips\n",
    "UNWIND tips AS tip\n",
    "MERGE (u:User {user_id: tip.user_id})\n",
    "MERGE (b:Business {business_id: tip.business_id})\n",
    "CREATE (u)-[t:TIP]->(b)\n",
    "SET t.date  = tip.date,\n",
    "    t.text  = tip.text,\n",
    "    t.likes = tip.likes,\n",
    "    t.type  = tip.type\n",
    "'''"
   ]
  },
  {
   "cell_type": "markdown",
   "metadata": {},
   "source": [
    "### Data Set files"
   ]
  },
  {
   "cell_type": "code",
   "execution_count": null,
   "metadata": {},
   "outputs": [],
   "source": [
    "REVIEW_FILE = \"yelp_academic_dataset_review.json\"\n",
    "TIP_FILE = \"yelp_academic_dataset_tip.json\"\n",
    "USER_FILE = \"yelp_academic_dataset_user.json\"\n",
    "CHECKIN_FILE = \"yelp_academic_dataset_checkin.json\"\n",
    "BUSINESS_FILE = \"yelp_academic_dataset_business.json\"\n",
    "\n",
    "files = [REVIEW_FILE, TIP_FILE, USER_FILE, CHECKIN_FILE, BUSINESS_FILE]"
   ]
  },
  {
   "cell_type": "code",
   "execution_count": null,
   "metadata": {},
   "outputs": [],
   "source": [
    "with driver.session() as session:\n",
    "    session.run(\"CREATE CONSTRAINT ON (c:Category) ASSERT c.name IS UNIQUE;\")"
   ]
  },
  {
   "cell_type": "markdown",
   "metadata": {},
   "source": [
    "### Method below imports Data using the contraint queries to NEO4J"
   ]
  },
  {
   "cell_type": "code",
   "execution_count": null,
   "metadata": {},
   "outputs": [],
   "source": [
    "def import_all(part):\n",
    "    print(\"Current is \",part['datafile'])\n",
    "    if part['datafile']:\n",
    "        with open(part['datafile'], \"r\",encoding=\"utf-8\") as file:\n",
    "            items = []\n",
    "            count = 0\n",
    "            for line in file:\n",
    "                items.append(json.loads(line))\n",
    "                count +=1\n",
    "                if count > part['size']:\n",
    "                    with driver.session() as session:\n",
    "                        session.run(part['cypher'], parameters={'items': items})\n",
    "                    items = []\n",
    "                    count = 0\n",
    "    else:\n",
    "        with driver.session() as session:\n",
    "            session.run(part['cypher']).consume()"
   ]
  },
  {
   "cell_type": "markdown",
   "metadata": {},
   "source": [
    "### Defining queries and other constraints"
   ]
  },
  {
   "cell_type": "code",
   "execution_count": null,
   "metadata": {},
   "outputs": [],
   "source": [
    " queries = [\n",
    "        {'datafile': USER_FILE, 'cypher': USER_IMPORT, 'size': 40000},\n",
    "        {'datafile': None, 'cypher': USER_CONSTRAINT, 'size': 1},\n",
    "        {'datafile': USER_FILE, 'cypher': USER_FRIEND_IMPORT, 'size': 10000},\n",
    "        {'datafile': None, 'cypher': CATEGORY_CONSTRAINT, 'size': 1},\n",
    "        {'datafile': BUSINESS_FILE, 'cypher': BUSINESS_IMPORT, 'size': 20000},\n",
    "        {'datafile': None, 'cypher': BUSINESS_CONSTRAINT, 'size': 1},\n",
    "        {'datafile': REVIEW_FILE, 'cypher': REVIEW_IMPORT_3, 'size': 20000},\n",
    "    ]"
   ]
  },
  {
   "cell_type": "code",
   "execution_count": null,
   "metadata": {},
   "outputs": [],
   "source": [
    "for query in queries:\n",
    "    import_all(query)"
   ]
  }
 ],
 "metadata": {
  "kernelspec": {
   "display_name": "Python 3",
   "language": "python",
   "name": "python3"
  },
  "language_info": {
   "codemirror_mode": {
    "name": "ipython",
    "version": 3
   },
   "file_extension": ".py",
   "mimetype": "text/x-python",
   "name": "python",
   "nbconvert_exporter": "python",
   "pygments_lexer": "ipython3",
   "version": "3.6.5"
  }
 },
 "nbformat": 4,
 "nbformat_minor": 2
}
